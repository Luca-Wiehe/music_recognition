{
 "cells": [
  {
   "cell_type": "code",
   "execution_count": null,
   "metadata": {},
   "outputs": [
    {
     "ename": "",
     "evalue": "",
     "output_type": "error",
     "traceback": [
      "\u001b[1;31mRunning cells with 'i2dl' requires the ipykernel package.\n",
      "\u001b[1;31mRun the following command to install 'ipykernel' into the Python environment. \n",
      "\u001b[1;31mCommand: 'conda install -n i2dl ipykernel --update-deps --force-reinstall'"
     ]
    }
   ],
   "source": [
    "from google.colab import drive\n",
    "import os\n",
    "\n",
    "# set path to project folder\n",
    "gdrive_path='/content/gdrive/MyDrive/7-programming/music_recognition/'\n",
    "\n",
    "# mount Google Drive\n",
    "drive.mount('/content/gdrive', force_remount=True)\n",
    "\n",
    "# navigate to Google Drive folder\n",
    "os.chdir(gdrive_path)\n",
    "\n",
    "# check that we are in the right folder\n",
    "print(sorted(os.listdir()))"
   ]
  },
  {
   "cell_type": "code",
   "execution_count": null,
   "metadata": {},
   "outputs": [],
   "source": [
    "import torch\n",
    "import torch.utils.data as data\n",
    "\n",
    "class MusicDataset(data.Dataset):\n",
    "    def __init__(self, data_path, transform=None):\n",
    "        self.data_path = data_path\n",
    "        self.transform = transform\n",
    "        self.data = []\n",
    "        for root, dirs, files in os.walk(data_path):\n",
    "            for file in files:\n",
    "                print(file)\n",
    "                if file.endswith(\".pt\"):\n",
    "                    self.data.append(os.path.join(root, file))\n",
    "\n",
    "    def __getitem__(self, index):\n",
    "        data = torch.load(self.data[index])\n",
    "        if self.transform:\n",
    "            data = self.transform(data)\n",
    "        return data\n",
    "\n",
    "    def __len__(self):\n",
    "        return len(self.data)"
   ]
  },
  {
   "cell_type": "code",
   "execution_count": null,
   "metadata": {},
   "outputs": [],
   "source": [
    "data_root = os.path.join(gdrive_path, 'data')\n",
    "\n",
    "train_data = MusicDataset(data_path=data_root)\n",
    "#val_data = MusicDataset(data_path='data/val')\n",
    "#test_data = MusicDataset(data_path='data/test')"
   ]
  }
 ],
 "metadata": {
  "kernelspec": {
   "display_name": "i2dl",
   "language": "python",
   "name": "python3"
  },
  "language_info": {
   "name": "python",
   "version": "3.10.13"
  }
 },
 "nbformat": 4,
 "nbformat_minor": 2
}
