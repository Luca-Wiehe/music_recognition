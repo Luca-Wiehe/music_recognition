{
 "cells": [
  {
   "cell_type": "code",
   "execution_count": null,
   "metadata": {},
   "outputs": [],
   "source": [
    "from google.colab import drive\n",
    "import os\n",
    "\n",
    "# set path to project folder\n",
    "gdrive_path='/content/gdrive/MyDrive/7-programming/music_recognition/'\n",
    "\n",
    "# mount Google Drive\n",
    "drive.mount('/content/gdrive', force_remount=True)\n",
    "\n",
    "# navigate to Google Drive folder\n",
    "os.chdir(gdrive_path)\n",
    "\n",
    "# check that we are in the right folder\n",
    "print(sorted(os.listdir()))"
   ]
  }
 ],
 "metadata": {
  "language_info": {
   "name": "python"
  }
 },
 "nbformat": 4,
 "nbformat_minor": 2
}
